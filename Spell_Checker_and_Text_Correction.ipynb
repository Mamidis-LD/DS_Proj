{
  "nbformat": 4,
  "nbformat_minor": 0,
  "metadata": {
    "colab": {
      "provenance": [],
      "authorship_tag": "ABX9TyO0WmXdxbxF93nUSTkXWCjA",
      "include_colab_link": true
    },
    "kernelspec": {
      "name": "python3",
      "display_name": "Python 3"
    },
    "language_info": {
      "name": "python"
    }
  },
  "cells": [
    {
      "cell_type": "markdown",
      "metadata": {
        "id": "view-in-github",
        "colab_type": "text"
      },
      "source": [
        "<a href=\"https://colab.research.google.com/github/Mamidis-LD/DS_Proj/blob/main/Spell_Checker_and_Text_Correction.ipynb\" target=\"_parent\"><img src=\"https://colab.research.google.com/assets/colab-badge.svg\" alt=\"Open In Colab\"/></a>"
      ]
    },
    {
      "cell_type": "code",
      "execution_count": 3,
      "metadata": {
        "colab": {
          "base_uri": "https://localhost:8080/"
        },
        "id": "w1nifSdta5KH",
        "outputId": "25ee20f3-4858-4b41-8955-361d2209583d"
      },
      "outputs": [
        {
          "output_type": "stream",
          "name": "stderr",
          "text": [
            "2024-04-27 16:41:16.322 \n",
            "  \u001b[33m\u001b[1mWarning:\u001b[0m to view this Streamlit app on a browser, run it with the following\n",
            "  command:\n",
            "\n",
            "    streamlit run /usr/local/lib/python3.10/dist-packages/colab_kernel_launcher.py [ARGUMENTS]\n"
          ]
        }
      ],
      "source": [
        "from spellchecker import SpellChecker\n",
        "\n",
        "import streamlit as st\n",
        "import nltk\n",
        "from nltk.tokenize import word_tokenize, sent_tokenize\n",
        "from nltk.corpus import wordnet\n",
        "import random\n",
        "\n",
        "def correct_sentence(sentence):\n",
        "    # Spell checker\n",
        "    spell = SpellChecker()\n",
        "    corrected_words = [spell.correction(word) for word in sentence.split()]\n",
        "\n",
        "    # Filter out None values\n",
        "    corrected_words = [word for word in corrected_words if word is not None]\n",
        "\n",
        "    corrected_sentence = ' '.join(corrected_words)\n",
        "\n",
        "    # Grammar checker and rephrasing\n",
        "    tokens = word_tokenize(corrected_sentence)\n",
        "    tagged_tokens = nltk.pos_tag(tokens)\n",
        "    corrected_tokens = []\n",
        "    for word, tag in tagged_tokens:\n",
        "        if tag.startswith('VB'):  # If word is a verb\n",
        "            synsets = wordnet.synsets(word, pos=wordnet.VERB)\n",
        "            if synsets:\n",
        "                synonyms = [synonym for synset in synsets for synonym in synset.lemmas()]\n",
        "                if synonyms:\n",
        "                    corrected_word = random.choice(synonyms).name()\n",
        "                else:\n",
        "                    corrected_word = word\n",
        "            else:\n",
        "                corrected_word = word\n",
        "        else:\n",
        "            corrected_word = word\n",
        "        corrected_tokens.append(corrected_word)\n",
        "    corrected_sentence = ' '.join(corrected_tokens)\n",
        "\n",
        "    return corrected_sentence\n",
        "\n",
        "def main():\n",
        "    st.title(\"Text Correction or Spell Checker\")\n",
        "    input_sentence = st.text_input(\"Enter the text here:\")\n",
        "\n",
        "    if st.button(\"Correct\"):\n",
        "        corrected_sentence = correct_sentence(input_sentence)\n",
        "        st.write(\"Corrected Sentence:\", corrected_sentence)\n",
        "\n",
        "if __name__ == \"__main__\":\n",
        "    main()\n"
      ]
    },
    {
      "cell_type": "code",
      "source": [],
      "metadata": {
        "id": "gGEgJDF8bBuY"
      },
      "execution_count": null,
      "outputs": []
    }
  ]
}